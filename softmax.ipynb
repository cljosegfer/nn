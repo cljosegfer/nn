{
 "cells": [
  {
   "cell_type": "code",
   "execution_count": 41,
   "metadata": {},
   "outputs": [],
   "source": [
    "import torch\n",
    "import torch.nn.functional as F\n",
    "import numpy as np\n",
    "import matplotlib.pyplot as plt"
   ]
  },
  {
   "cell_type": "code",
   "execution_count": 2,
   "metadata": {},
   "outputs": [],
   "source": [
    "H_train = torch.load('data/H_train.pt')\n",
    "y_train = torch.load('data/y_train.pt')\n",
    "yhat_train = torch.load('data/yhat_train.pt')\n",
    "H_test = torch.load('data/H_test.pt')\n",
    "y_test = torch.load('data/y_test.pt')\n",
    "yhat_test = torch.load('data/yhat_test.pt')"
   ]
  },
  {
   "cell_type": "code",
   "execution_count": 3,
   "metadata": {},
   "outputs": [
    {
     "data": {
      "text/plain": [
       "(torch.Size([50000, 512]),\n",
       " torch.Size([50000]),\n",
       " torch.Size([50000, 10]),\n",
       " torch.Size([10000, 512]),\n",
       " torch.Size([10000]),\n",
       " torch.Size([10000, 10]))"
      ]
     },
     "execution_count": 3,
     "metadata": {},
     "output_type": "execute_result"
    }
   ],
   "source": [
    "H_train.shape, y_train.shape, yhat_train.shape, H_test.shape, y_test.shape, yhat_test.shape"
   ]
  },
  {
   "cell_type": "code",
   "execution_count": 42,
   "metadata": {},
   "outputs": [
    {
     "data": {
      "text/plain": [
       "(tensor([0.1367, 0.9055, 0.4881,  ..., 0.8526, 0.8472, 0.4113]),\n",
       " torch.Size([50000]))"
      ]
     },
     "execution_count": 42,
     "metadata": {},
     "output_type": "execute_result"
    }
   ],
   "source": [
    "s_train = F.softmax(yhat_train, dim = 1)[np.arange(len(y_train)), y_train]\n",
    "torch.save(s_train, 'data/s_train.pt')\n",
    "s_train, s_train.shape"
   ]
  },
  {
   "cell_type": "code",
   "execution_count": 43,
   "metadata": {},
   "outputs": [
    {
     "data": {
      "text/plain": [
       "(tensor([0.5433, 0.9110, 0.8455,  ..., 0.9256, 0.3128, 0.9839]),\n",
       " torch.Size([10000]))"
      ]
     },
     "execution_count": 43,
     "metadata": {},
     "output_type": "execute_result"
    }
   ],
   "source": [
    "s_test = F.softmax(yhat_test, dim = 1)[np.arange(len(y_test)), y_test]\n",
    "torch.save(s_test, 'data/s_test.pt')\n",
    "s_test, s_test.shape"
   ]
  },
  {
   "cell_type": "code",
   "execution_count": null,
   "metadata": {},
   "outputs": [],
   "source": []
  }
 ],
 "metadata": {
  "kernelspec": {
   "display_name": "lusiadas",
   "language": "python",
   "name": "python3"
  },
  "language_info": {
   "codemirror_mode": {
    "name": "ipython",
    "version": 3
   },
   "file_extension": ".py",
   "mimetype": "text/x-python",
   "name": "python",
   "nbconvert_exporter": "python",
   "pygments_lexer": "ipython3",
   "version": "3.8.8"
  },
  "orig_nbformat": 4
 },
 "nbformat": 4,
 "nbformat_minor": 2
}
