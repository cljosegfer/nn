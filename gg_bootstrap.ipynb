{
 "cells": [
  {
   "cell_type": "code",
   "execution_count": 1,
   "metadata": {},
   "outputs": [
    {
     "name": "stderr",
     "output_type": "stream",
     "text": [
      "/home/josegfer/miniconda3/envs/wavernn/lib/python3.7/site-packages/tqdm/auto.py:21: TqdmWarning: IProgress not found. Please update jupyter and ipywidgets. See https://ipywidgets.readthedocs.io/en/stable/user_install.html\n",
      "  from .autonotebook import tqdm as notebook_tqdm\n"
     ]
    }
   ],
   "source": [
    "import torch\n",
    "import numpy as np\n",
    "\n",
    "from tqdm import tqdm"
   ]
  },
  {
   "cell_type": "code",
   "execution_count": 2,
   "metadata": {},
   "outputs": [
    {
     "data": {
      "text/plain": [
       "device(type='cuda', index=0)"
      ]
     },
     "execution_count": 2,
     "metadata": {},
     "output_type": "execute_result"
    }
   ],
   "source": [
    "DEVICE = torch.device(\"cuda:0\" if torch.cuda.is_available() else \"cpu\")\n",
    "DEVICE"
   ]
  },
  {
   "cell_type": "code",
   "execution_count": 3,
   "metadata": {},
   "outputs": [],
   "source": [
    "class GG:\n",
    "    def __init__(self) -> None:\n",
    "        pass\n",
    "\n",
    "    def torch(self, X: np.ndarray, p: float = 2, progress = False):\n",
    "        X = torch.Tensor(X).to(DEVICE)\n",
    "        n = X.shape[0]\n",
    "        F = torch.cdist(X, X, p = p)**p\n",
    "        F.fill_diagonal_(float('inf'))\n",
    "\n",
    "        adj = torch.zeros((n,n), dtype=torch.bool).to(DEVICE)\n",
    "        if progress:\n",
    "          iterador = tqdm(range(n-1))\n",
    "        else:\n",
    "          iterador = range(n-1)\n",
    "        for i in iterador:\n",
    "            A = F[i]+F[i+1:]\n",
    "            idx_min = torch.argmin(A, axis=1)\n",
    "            a = A[torch.arange(A.shape[0]), idx_min] - F[i, i+1:]\n",
    "            adj[i, i+1:] = torch.where(a > 0, 1, 0)\n",
    "        adj = adj + adj.T\n",
    "        return adj.cpu()\n",
    "\n",
    "    def divorciado(self, X_train: np.ndarray, X_test: np.ndarray, p: float = 2, progress = False):\n",
    "        X_train = torch.Tensor(X_train).to(DEVICE)\n",
    "        X_test = torch.Tensor(X_test).to(DEVICE)\n",
    "        n = X_train.shape[0]\n",
    "        N = X_test.shape[0]\n",
    "        F = torch.cdist(X_train, X_train, p = p)**p\n",
    "        F.fill_diagonal_(float('inf'))\n",
    "        Ft = torch.cdist(X_test, X_train, p = p)**p\n",
    "\n",
    "        adj = torch.zeros((N, n), dtype=torch.bool).to(DEVICE)\n",
    "        if progress:\n",
    "          iterador = tqdm(range(N))\n",
    "        else:\n",
    "          iterador = range(N)\n",
    "        for i in iterador:\n",
    "            A = Ft[i] + F\n",
    "            idx_min = torch.argmin(A, axis=1)\n",
    "            a = A[torch.arange(A.shape[0]), idx_min] - Ft[i]\n",
    "            adj[i, :] = torch.where(a > 0, 1, 0)\n",
    "        return adj.cpu()"
   ]
  },
  {
   "cell_type": "code",
   "execution_count": 4,
   "metadata": {},
   "outputs": [],
   "source": [
    "H_train = torch.load('data/H_train.pt')\n",
    "H_test = torch.load('data/H_test.pt')"
   ]
  },
  {
   "cell_type": "code",
   "execution_count": 6,
   "metadata": {},
   "outputs": [
    {
     "data": {
      "text/plain": [
       "(tensor(0., device='cuda:0'), tensor(0., device='cuda:0'))"
      ]
     },
     "execution_count": 6,
     "metadata": {},
     "output_type": "execute_result"
    }
   ],
   "source": [
    "# p = 16\n",
    "# Ft = torch.cdist(H_test.to(DEVICE), H_train.to(DEVICE), p = p)**p\n",
    "# torch.sum(torch.isinf(Ft)) / 50000 / 10000, torch.sum(Ft == 0) / 50000 / 10000"
   ]
  },
  {
   "cell_type": "code",
   "execution_count": 5,
   "metadata": {},
   "outputs": [],
   "source": [
    "ggclass = GG()\n",
    "p = 128\n",
    "\n",
    "tol = 0.01\n",
    "eta = 0.5\n",
    "K = int(np.log(tol) / np.log(1 - eta**2))\n",
    "\n",
    "N = H_train.shape[0]\n",
    "btsz = int(N * eta)"
   ]
  },
  {
   "cell_type": "code",
   "execution_count": 6,
   "metadata": {},
   "outputs": [
    {
     "name": "stdout",
     "output_type": "stream",
     "text": [
      "0\n"
     ]
    },
    {
     "name": "stderr",
     "output_type": "stream",
     "text": [
      "100%|██████████| 24999/24999 [02:36<00:00, 159.35it/s] \n",
      "100%|██████████| 24999/24999 [02:36<00:00, 159.32it/s] \n"
     ]
    },
    {
     "name": "stdout",
     "output_type": "stream",
     "text": [
      "1\n"
     ]
    },
    {
     "name": "stderr",
     "output_type": "stream",
     "text": [
      "100%|██████████| 24999/24999 [02:36<00:00, 159.33it/s] \n",
      "100%|██████████| 24999/24999 [02:36<00:00, 159.38it/s] \n"
     ]
    },
    {
     "name": "stdout",
     "output_type": "stream",
     "text": [
      "2\n"
     ]
    },
    {
     "name": "stderr",
     "output_type": "stream",
     "text": [
      "100%|██████████| 24999/24999 [02:36<00:00, 159.41it/s] \n",
      "100%|██████████| 24999/24999 [02:36<00:00, 159.38it/s] \n"
     ]
    },
    {
     "name": "stdout",
     "output_type": "stream",
     "text": [
      "3\n"
     ]
    },
    {
     "name": "stderr",
     "output_type": "stream",
     "text": [
      "100%|██████████| 24999/24999 [02:36<00:00, 159.38it/s] \n",
      "100%|██████████| 24999/24999 [02:36<00:00, 159.40it/s] \n"
     ]
    },
    {
     "name": "stdout",
     "output_type": "stream",
     "text": [
      "4\n"
     ]
    },
    {
     "name": "stderr",
     "output_type": "stream",
     "text": [
      "100%|██████████| 24999/24999 [02:36<00:00, 159.42it/s] \n",
      "100%|██████████| 24999/24999 [02:36<00:00, 159.38it/s] \n"
     ]
    },
    {
     "name": "stdout",
     "output_type": "stream",
     "text": [
      "5\n"
     ]
    },
    {
     "name": "stderr",
     "output_type": "stream",
     "text": [
      "100%|██████████| 24999/24999 [02:36<00:00, 159.39it/s] \n",
      "100%|██████████| 24999/24999 [02:36<00:00, 159.39it/s] \n"
     ]
    },
    {
     "name": "stdout",
     "output_type": "stream",
     "text": [
      "6\n"
     ]
    },
    {
     "name": "stderr",
     "output_type": "stream",
     "text": [
      "100%|██████████| 24999/24999 [02:36<00:00, 159.42it/s] \n",
      "100%|██████████| 24999/24999 [02:36<00:00, 159.43it/s] \n"
     ]
    },
    {
     "name": "stdout",
     "output_type": "stream",
     "text": [
      "7\n"
     ]
    },
    {
     "name": "stderr",
     "output_type": "stream",
     "text": [
      "100%|██████████| 24999/24999 [02:36<00:00, 159.37it/s] \n",
      "100%|██████████| 24999/24999 [02:36<00:00, 159.39it/s] \n"
     ]
    },
    {
     "name": "stdout",
     "output_type": "stream",
     "text": [
      "8\n"
     ]
    },
    {
     "name": "stderr",
     "output_type": "stream",
     "text": [
      "100%|██████████| 24999/24999 [02:36<00:00, 159.42it/s] \n",
      "100%|██████████| 24999/24999 [02:36<00:00, 159.36it/s] \n"
     ]
    },
    {
     "name": "stdout",
     "output_type": "stream",
     "text": [
      "9\n"
     ]
    },
    {
     "name": "stderr",
     "output_type": "stream",
     "text": [
      "100%|██████████| 24999/24999 [02:36<00:00, 159.39it/s] \n",
      "100%|██████████| 24999/24999 [02:36<00:00, 159.41it/s] \n"
     ]
    },
    {
     "name": "stdout",
     "output_type": "stream",
     "text": [
      "10\n"
     ]
    },
    {
     "name": "stderr",
     "output_type": "stream",
     "text": [
      "100%|██████████| 24999/24999 [02:37<00:00, 158.99it/s] \n",
      "100%|██████████| 24999/24999 [02:36<00:00, 159.40it/s] \n"
     ]
    },
    {
     "name": "stdout",
     "output_type": "stream",
     "text": [
      "11\n"
     ]
    },
    {
     "name": "stderr",
     "output_type": "stream",
     "text": [
      "100%|██████████| 24999/24999 [02:36<00:00, 159.33it/s] \n",
      "100%|██████████| 24999/24999 [02:36<00:00, 159.40it/s] \n"
     ]
    },
    {
     "name": "stdout",
     "output_type": "stream",
     "text": [
      "12\n"
     ]
    },
    {
     "name": "stderr",
     "output_type": "stream",
     "text": [
      "100%|██████████| 24999/24999 [02:36<00:00, 159.38it/s] \n",
      "100%|██████████| 24999/24999 [02:36<00:00, 159.42it/s] \n"
     ]
    },
    {
     "name": "stdout",
     "output_type": "stream",
     "text": [
      "13\n"
     ]
    },
    {
     "name": "stderr",
     "output_type": "stream",
     "text": [
      "100%|██████████| 24999/24999 [02:36<00:00, 159.38it/s] \n",
      "100%|██████████| 24999/24999 [02:36<00:00, 159.38it/s] \n"
     ]
    },
    {
     "name": "stdout",
     "output_type": "stream",
     "text": [
      "14\n"
     ]
    },
    {
     "name": "stderr",
     "output_type": "stream",
     "text": [
      "100%|██████████| 24999/24999 [02:36<00:00, 159.41it/s] \n",
      "100%|██████████| 24999/24999 [02:36<00:00, 159.38it/s] \n"
     ]
    },
    {
     "name": "stdout",
     "output_type": "stream",
     "text": [
      "15\n"
     ]
    },
    {
     "name": "stderr",
     "output_type": "stream",
     "text": [
      "100%|██████████| 24999/24999 [02:36<00:00, 159.41it/s] \n",
      "100%|██████████| 24999/24999 [02:36<00:00, 159.38it/s] \n"
     ]
    }
   ],
   "source": [
    "idx = np.arange(N)\n",
    "adj = torch.ones((N, N), dtype=torch.bool)\n",
    "for epoch in (range(K)):\n",
    "    print(epoch)\n",
    "    np.random.shuffle(idx)\n",
    "    for b in range(0, N, btsz):\n",
    "        idx_batch = idx[b:min(b+btsz, N)]\n",
    "        X_batch = H_train[idx_batch, :]\n",
    "        adj[np.ix_(idx_batch, idx_batch)] *= ggclass.torch(X_batch / 4, p = p, progress = True)"
   ]
  },
  {
   "cell_type": "code",
   "execution_count": 8,
   "metadata": {},
   "outputs": [],
   "source": [
    "torch.save(adj, 'data/gg_train_bootstrap.pt')"
   ]
  },
  {
   "cell_type": "code",
   "execution_count": 5,
   "metadata": {},
   "outputs": [
    {
     "data": {
      "text/plain": [
       "7"
      ]
     },
     "execution_count": 5,
     "metadata": {},
     "output_type": "execute_result"
    }
   ],
   "source": [
    "ggclass = GG()\n",
    "p = 5\n",
    "\n",
    "tol = 0.01\n",
    "eta = 0.5\n",
    "K = int(np.log(tol) / np.log(1 - eta)) + 1\n",
    "\n",
    "N = H_train.shape[0]\n",
    "n = H_test.shape[0]\n",
    "btsz = int(N * eta)\n",
    "K"
   ]
  },
  {
   "cell_type": "code",
   "execution_count": 6,
   "metadata": {},
   "outputs": [
    {
     "name": "stdout",
     "output_type": "stream",
     "text": [
      "0\n"
     ]
    },
    {
     "name": "stderr",
     "output_type": "stream",
     "text": [
      "100%|██████████| 10000/10000 [02:03<00:00, 80.86it/s]\n",
      "100%|██████████| 10000/10000 [02:03<00:00, 80.86it/s]\n"
     ]
    },
    {
     "name": "stdout",
     "output_type": "stream",
     "text": [
      "1\n"
     ]
    },
    {
     "name": "stderr",
     "output_type": "stream",
     "text": [
      "100%|██████████| 10000/10000 [02:03<00:00, 80.85it/s]\n",
      "100%|██████████| 10000/10000 [02:03<00:00, 80.85it/s]\n"
     ]
    },
    {
     "name": "stdout",
     "output_type": "stream",
     "text": [
      "2\n"
     ]
    },
    {
     "name": "stderr",
     "output_type": "stream",
     "text": [
      "100%|██████████| 10000/10000 [02:03<00:00, 80.86it/s]\n",
      "100%|██████████| 10000/10000 [02:03<00:00, 80.88it/s]\n"
     ]
    },
    {
     "name": "stdout",
     "output_type": "stream",
     "text": [
      "3\n"
     ]
    },
    {
     "name": "stderr",
     "output_type": "stream",
     "text": [
      "100%|██████████| 10000/10000 [02:03<00:00, 80.86it/s]\n",
      "100%|██████████| 10000/10000 [02:03<00:00, 80.86it/s]\n"
     ]
    },
    {
     "name": "stdout",
     "output_type": "stream",
     "text": [
      "4\n"
     ]
    },
    {
     "name": "stderr",
     "output_type": "stream",
     "text": [
      "100%|██████████| 10000/10000 [02:03<00:00, 80.86it/s]\n",
      "100%|██████████| 10000/10000 [02:03<00:00, 80.86it/s]\n"
     ]
    },
    {
     "name": "stdout",
     "output_type": "stream",
     "text": [
      "5\n"
     ]
    },
    {
     "name": "stderr",
     "output_type": "stream",
     "text": [
      "100%|██████████| 10000/10000 [02:03<00:00, 80.86it/s]\n",
      "100%|██████████| 10000/10000 [02:03<00:00, 80.86it/s]\n"
     ]
    },
    {
     "name": "stdout",
     "output_type": "stream",
     "text": [
      "6\n"
     ]
    },
    {
     "name": "stderr",
     "output_type": "stream",
     "text": [
      "100%|██████████| 10000/10000 [02:03<00:00, 80.86it/s]\n",
      "100%|██████████| 10000/10000 [02:03<00:00, 80.86it/s]\n"
     ]
    }
   ],
   "source": [
    "idx = np.arange(N)\n",
    "adjb = torch.ones((n, N), dtype=torch.bool)\n",
    "for epoch in (range(K)):\n",
    "    print(epoch)\n",
    "    np.random.shuffle(idx)\n",
    "    for b in range(0, N, btsz):\n",
    "        idx_batch = idx[b:min(b+btsz, N)]\n",
    "        X_batch = H_train[idx_batch, :]\n",
    "        # adjb[:, idx_batch] *= ggclass.divorciado(X_batch / 4, H_test / 4, p = p, progress = True)\n",
    "        adjb[:, idx_batch] *= ggclass.divorciado(X_batch, H_test, p = p, progress = True)"
   ]
  },
  {
   "cell_type": "code",
   "execution_count": 7,
   "metadata": {},
   "outputs": [],
   "source": [
    "torch.save(adjb, 'data/gg_test_bootstrap_05.pt')"
   ]
  },
  {
   "cell_type": "code",
   "execution_count": 29,
   "metadata": {},
   "outputs": [
    {
     "data": {
      "text/plain": [
       "torch.Size([1000, 512])"
      ]
     },
     "execution_count": 29,
     "metadata": {},
     "output_type": "execute_result"
    }
   ],
   "source": [
    "# X = torch.Tensor(H_train[:1000, :]).to(DEVICE)\n",
    "# X.shape"
   ]
  },
  {
   "cell_type": "code",
   "execution_count": 42,
   "metadata": {},
   "outputs": [],
   "source": [
    "# F = torch.cdist(X / 4, X / 4, p = p)**p"
   ]
  },
  {
   "cell_type": "code",
   "execution_count": 43,
   "metadata": {},
   "outputs": [
    {
     "data": {
      "text/plain": [
       "(tensor(1012, device='cuda:0'), tensor(0., device='cuda:0'))"
      ]
     },
     "execution_count": 43,
     "metadata": {},
     "output_type": "execute_result"
    }
   ],
   "source": [
    "# (F == 0).sum(), torch.isinf(F).sum() / 100 / 100"
   ]
  },
  {
   "cell_type": "code",
   "execution_count": 44,
   "metadata": {},
   "outputs": [],
   "source": [
    "# F = torch.cdist(X / 4, torch.Tensor(H_test[:1000, :]).to(DEVICE) / 4, p = p)**p"
   ]
  },
  {
   "cell_type": "code",
   "execution_count": 45,
   "metadata": {},
   "outputs": [
    {
     "data": {
      "text/plain": [
       "(tensor(31, device='cuda:0'), tensor(0, device='cuda:0'))"
      ]
     },
     "execution_count": 45,
     "metadata": {},
     "output_type": "execute_result"
    }
   ],
   "source": [
    "# (F == 0).sum(), torch.isinf(F).sum()"
   ]
  },
  {
   "cell_type": "code",
   "execution_count": null,
   "metadata": {},
   "outputs": [],
   "source": []
  }
 ],
 "metadata": {
  "kernelspec": {
   "display_name": "wavernn",
   "language": "python",
   "name": "python3"
  },
  "language_info": {
   "codemirror_mode": {
    "name": "ipython",
    "version": 3
   },
   "file_extension": ".py",
   "mimetype": "text/x-python",
   "name": "python",
   "nbconvert_exporter": "python",
   "pygments_lexer": "ipython3",
   "version": "3.7.5"
  },
  "orig_nbformat": 4
 },
 "nbformat": 4,
 "nbformat_minor": 2
}
