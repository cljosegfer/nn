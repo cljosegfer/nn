{
  "cells": [
    {
      "cell_type": "markdown",
      "metadata": {},
      "source": [
        "https://github.com/sthalles/SimCLR/blob/simclr-refactor/feature_eval/mini_batch_logistic_regression_evaluator.ipynb"
      ]
    },
    {
      "cell_type": "code",
      "execution_count": 2,
      "metadata": {
        "id": "YUemQib7ZE4D"
      },
      "outputs": [],
      "source": [
        "import torch\n",
        "import sys\n",
        "import numpy as np\n",
        "import os\n",
        "import matplotlib.pyplot as plt\n",
        "import torchvision"
      ]
    },
    {
      "cell_type": "code",
      "execution_count": 3,
      "metadata": {
        "colab": {
          "base_uri": "https://localhost:8080/"
        },
        "id": "WSgRE1CcLqdS",
        "outputId": "48a2ae15-f672-495b-8d43-9a23b85fa3b8"
      },
      "outputs": [
        {
          "name": "stdout",
          "output_type": "stream",
          "text": [
            "Collecting gdown\n",
            "  Downloading gdown-4.7.1-py3-none-any.whl (15 kB)\n",
            "Requirement already satisfied: filelock in /home/josegfer/miniconda3/envs/lusiadas/lib/python3.8/site-packages (from gdown) (3.12.2)\n",
            "Requirement already satisfied: requests[socks] in /home/josegfer/miniconda3/envs/lusiadas/lib/python3.8/site-packages (from gdown) (2.31.0)\n",
            "Requirement already satisfied: six in /home/josegfer/miniconda3/envs/lusiadas/lib/python3.8/site-packages (from gdown) (1.16.0)\n",
            "Requirement already satisfied: tqdm in /home/josegfer/miniconda3/envs/lusiadas/lib/python3.8/site-packages (from gdown) (4.65.0)\n",
            "Collecting beautifulsoup4 (from gdown)\n",
            "  Downloading beautifulsoup4-4.12.2-py3-none-any.whl (142 kB)\n",
            "\u001b[2K     \u001b[90m━━━━━━━━━━━━━━━━━━━━━━━━━━━━━━━━━━━━━━━\u001b[0m \u001b[32m143.0/143.0 kB\u001b[0m \u001b[31m1.3 MB/s\u001b[0m eta \u001b[36m0:00:00\u001b[0ma \u001b[36m0:00:01\u001b[0m\n",
            "\u001b[?25hCollecting soupsieve>1.2 (from beautifulsoup4->gdown)\n",
            "  Downloading soupsieve-2.4.1-py3-none-any.whl (36 kB)\n",
            "Requirement already satisfied: charset-normalizer<4,>=2 in /home/josegfer/miniconda3/envs/lusiadas/lib/python3.8/site-packages (from requests[socks]->gdown) (3.2.0)\n",
            "Requirement already satisfied: idna<4,>=2.5 in /home/josegfer/miniconda3/envs/lusiadas/lib/python3.8/site-packages (from requests[socks]->gdown) (3.4)\n",
            "Requirement already satisfied: urllib3<3,>=1.21.1 in /home/josegfer/miniconda3/envs/lusiadas/lib/python3.8/site-packages (from requests[socks]->gdown) (2.0.3)\n",
            "Requirement already satisfied: certifi>=2017.4.17 in /home/josegfer/miniconda3/envs/lusiadas/lib/python3.8/site-packages (from requests[socks]->gdown) (2023.5.7)\n",
            "Collecting PySocks!=1.5.7,>=1.5.6 (from requests[socks]->gdown)\n",
            "  Downloading PySocks-1.7.1-py3-none-any.whl (16 kB)\n",
            "Installing collected packages: soupsieve, PySocks, beautifulsoup4, gdown\n",
            "Successfully installed PySocks-1.7.1 beautifulsoup4-4.12.2 gdown-4.7.1 soupsieve-2.4.1\n"
          ]
        }
      ],
      "source": [
        "!pip install gdown"
      ]
    },
    {
      "cell_type": "code",
      "execution_count": 4,
      "metadata": {
        "id": "NOIJEui1ZziV"
      },
      "outputs": [],
      "source": [
        "def get_file_id_by_model(folder_name):\n",
        "  file_id = {'resnet18_100-epochs_stl10': '14_nH2FkyKbt61cieQDiSbBVNP8-gtwgF',\n",
        "             'resnet18_100-epochs_cifar10': '1lc2aoVtrAetGn0PnTkOyFzPCIucOJq7C',\n",
        "             'resnet50_50-epochs_stl10': '1ByTKAUsdm_X7tLcii6oAEl5qFRqRMZSu'}\n",
        "  return file_id.get(folder_name, \"Model not found.\")"
      ]
    },
    {
      "cell_type": "code",
      "execution_count": 5,
      "metadata": {
        "colab": {
          "base_uri": "https://localhost:8080/"
        },
        "id": "G7YMxsvEZMrX",
        "outputId": "59475430-69d2-45a2-b61b-ae755d5d6e88"
      },
      "outputs": [
        {
          "name": "stdout",
          "output_type": "stream",
          "text": [
            "resnet18_100-epochs_cifar10 1lc2aoVtrAetGn0PnTkOyFzPCIucOJq7C\n"
          ]
        }
      ],
      "source": [
        "folder_name = 'resnet18_100-epochs_cifar10'\n",
        "file_id = get_file_id_by_model(folder_name)\n",
        "print(folder_name, file_id)"
      ]
    },
    {
      "cell_type": "code",
      "execution_count": 22,
      "metadata": {
        "colab": {
          "base_uri": "https://localhost:8080/"
        },
        "id": "PWZ8fet_YoJm",
        "outputId": "fbaeb858-221b-4d1b-dd90-001a6e713b75"
      },
      "outputs": [
        {
          "name": "stderr",
          "output_type": "stream",
          "text": [
            "Downloading...\n",
            "From (uriginal): https://drive.google.com/uc?id=1lc2aoVtrAetGn0PnTkOyFzPCIucOJq7C\n",
            "From (redirected): https://drive.google.com/uc?id=1lc2aoVtrAetGn0PnTkOyFzPCIucOJq7C&confirm=t&uuid=876148ef-8213-469c-a29c-ffe5c75d1bf0\n",
            "To: /home/josegfer/ggnn/resnet18_100-epochs_cifar10.zip\n",
            "100%|██████████| 101M/101M [00:09<00:00, 11.2MB/s] \n"
          ]
        },
        {
          "name": "stdout",
          "output_type": "stream",
          "text": [
            "Archive:  pretrained/resnet18_100-epochs_cifar10.zip\n",
            "  inflating: pretrained/checkpoint_0100.pth.tar  \n",
            "  inflating: pretrained/config.yml   \n",
            "  inflating: pretrained/events.out.tfevents.1610901418.4cb2c837708d.2683796.0  \n",
            "  inflating: pretrained/run.log      \n"
          ]
        },
        {
          "data": {
            "text/plain": [
              "0"
            ]
          },
          "execution_count": 22,
          "metadata": {},
          "output_type": "execute_result"
        }
      ],
      "source": [
        "# download and extract model files\n",
        "os.system('gdown https://drive.google.com/uc?id={}'.format(file_id))\n",
        "os.system('mv {}.zip pretrained/'.format(folder_name))\n",
        "os.system('unzip pretrained/{} -d pretrained/'.format(folder_name))"
      ]
    },
    {
      "cell_type": "code",
      "execution_count": 23,
      "metadata": {
        "id": "3_nypQVEv-hn"
      },
      "outputs": [],
      "source": [
        "from torch.utils.data import DataLoader\n",
        "import torchvision.transforms as transforms\n",
        "from torchvision import datasets"
      ]
    },
    {
      "cell_type": "code",
      "execution_count": 24,
      "metadata": {
        "colab": {
          "base_uri": "https://localhost:8080/"
        },
        "id": "lDfbL3w_Z0Od",
        "outputId": "7532966e-1c4a-4641-c928-4cda14c53389"
      },
      "outputs": [
        {
          "name": "stdout",
          "output_type": "stream",
          "text": [
            "Using device: cuda\n"
          ]
        }
      ],
      "source": [
        "device = 'cuda' if torch.cuda.is_available() else 'cpu'\n",
        "print(\"Using device:\", device)"
      ]
    },
    {
      "cell_type": "code",
      "execution_count": 26,
      "metadata": {
        "id": "a18lPD-tIle6"
      },
      "outputs": [],
      "source": [
        "model = torchvision.models.resnet18(pretrained=False, num_classes=10).to(device)"
      ]
    },
    {
      "cell_type": "code",
      "execution_count": 28,
      "metadata": {
        "id": "4AIfgq41GuTT"
      },
      "outputs": [],
      "source": [
        "checkpoint = torch.load('pretrained/checkpoint_0100.pth.tar', map_location=device)\n",
        "state_dict = checkpoint['state_dict']\n",
        "\n",
        "for k in list(state_dict.keys()):\n",
        "\n",
        "  if k.startswith('backbone.'):\n",
        "    if k.startswith('backbone') and not k.startswith('backbone.fc'):\n",
        "      # remove prefix\n",
        "      state_dict[k[len(\"backbone.\"):]] = state_dict[k]\n",
        "  del state_dict[k]"
      ]
    },
    {
      "cell_type": "code",
      "execution_count": 29,
      "metadata": {
        "id": "VVjA83PPJYWl"
      },
      "outputs": [],
      "source": [
        "log = model.load_state_dict(state_dict, strict=False)\n",
        "assert log.missing_keys == ['fc.weight', 'fc.bias']"
      ]
    },
    {
      "cell_type": "code",
      "execution_count": 32,
      "metadata": {},
      "outputs": [],
      "source": [
        "BATCH_SIZE = 256"
      ]
    },
    {
      "cell_type": "code",
      "execution_count": 33,
      "metadata": {
        "colab": {
          "base_uri": "https://localhost:8080/",
          "height": 117,
          "referenced_widgets": [
            "149b9ce8fb68473a837a77431c12281a",
            "88cd3db2831e4c13a4a634709700d6b2",
            "a88c31d74f5c40a2b24bcff5a35d216c",
            "60c6150177694717a622936b830427b5",
            "dba019efadee4fdc8c799f309b9a7e70",
            "5901c2829a554c8ebbd5926610088041",
            "957362a11d174407979cf17012bf9208",
            "a4f82234388e4701a02a9f68a177193a"
          ]
        },
        "id": "_GC0a14uWRr6",
        "outputId": "4c2558db-921c-425e-f947-6cc746d8c749"
      },
      "outputs": [
        {
          "name": "stdout",
          "output_type": "stream",
          "text": [
            "Files already downloaded and verified\n",
            "Files already downloaded and verified\n"
          ]
        }
      ],
      "source": [
        "train_dataset = datasets.CIFAR10('./data', train=True, download=True,\n",
        "                                transform=transforms.ToTensor())\n",
        "\n",
        "train_loader = DataLoader(train_dataset, batch_size=BATCH_SIZE,\n",
        "                        num_workers=0, drop_last=False, shuffle=True)\n",
        "\n",
        "test_dataset = datasets.CIFAR10('./data', train=False, download=True,\n",
        "                                transform=transforms.ToTensor())\n",
        "\n",
        "test_loader = DataLoader(test_dataset, batch_size=BATCH_SIZE,\n",
        "                        num_workers=10, drop_last=False, shuffle=False)"
      ]
    },
    {
      "cell_type": "code",
      "execution_count": 34,
      "metadata": {
        "id": "pYT_KsM0Mnnr"
      },
      "outputs": [],
      "source": [
        "# freeze all layers but the last fc\n",
        "for name, param in model.named_parameters():\n",
        "    if name not in ['fc.weight', 'fc.bias']:\n",
        "        param.requires_grad = False\n",
        "\n",
        "parameters = list(filter(lambda p: p.requires_grad, model.parameters()))\n",
        "assert len(parameters) == 2  # fc.weight, fc.bias"
      ]
    },
    {
      "cell_type": "code",
      "execution_count": 35,
      "metadata": {},
      "outputs": [],
      "source": [
        "optimizer = torch.optim.Adam(model.parameters(), lr=0.0003, weight_decay=0.0008)\n",
        "criterion = torch.nn.CrossEntropyLoss().to(device)"
      ]
    },
    {
      "cell_type": "code",
      "execution_count": 36,
      "metadata": {},
      "outputs": [],
      "source": [
        "def accuracy(output, target, topk=(1,)):\n",
        "    \"\"\"Computes the accuracy over the k top predictions for the specified values of k\"\"\"\n",
        "    with torch.no_grad():\n",
        "        maxk = max(topk)\n",
        "        batch_size = target.size(0)\n",
        "\n",
        "        _, pred = output.topk(maxk, 1, True, True)\n",
        "        pred = pred.t()\n",
        "        correct = pred.eq(target.view(1, -1).expand_as(pred))\n",
        "\n",
        "        res = []\n",
        "        for k in topk:\n",
        "            correct_k = correct[:k].reshape(-1).float().sum(0, keepdim=True)\n",
        "            res.append(correct_k.mul_(100.0 / batch_size))\n",
        "        return res"
      ]
    },
    {
      "cell_type": "code",
      "execution_count": 37,
      "metadata": {},
      "outputs": [
        {
          "name": "stdout",
          "output_type": "stream",
          "text": [
            "Epoch 0\tTop1 Train accuracy 48.626033782958984\tTop1 Test accuracy: 56.73828125\tTop5 test acc: 95.048828125\n",
            "Epoch 1\tTop1 Train accuracy 58.77471160888672\tTop1 Test accuracy: 59.013671875\tTop5 test acc: 95.48828125\n",
            "Epoch 2\tTop1 Train accuracy 60.48469161987305\tTop1 Test accuracy: 60.341796875\tTop5 test acc: 95.8203125\n",
            "Epoch 3\tTop1 Train accuracy 61.465240478515625\tTop1 Test accuracy: 61.005859375\tTop5 test acc: 96.064453125\n",
            "Epoch 4\tTop1 Train accuracy 62.026065826416016\tTop1 Test accuracy: 61.54296875\tTop5 test acc: 96.03515625\n",
            "Epoch 5\tTop1 Train accuracy 62.578125\tTop1 Test accuracy: 62.001953125\tTop5 test acc: 96.19140625\n",
            "Epoch 6\tTop1 Train accuracy 63.00502014160156\tTop1 Test accuracy: 62.177734375\tTop5 test acc: 96.25\n",
            "Epoch 7\tTop1 Train accuracy 63.3729248046875\tTop1 Test accuracy: 62.587890625\tTop5 test acc: 96.171875\n",
            "Epoch 8\tTop1 Train accuracy 63.54153060913086\tTop1 Test accuracy: 62.5390625\tTop5 test acc: 96.2890625\n",
            "Epoch 9\tTop1 Train accuracy 63.81496810913086\tTop1 Test accuracy: 63.1640625\tTop5 test acc: 96.337890625\n",
            "Epoch 10\tTop1 Train accuracy 64.08003997802734\tTop1 Test accuracy: 62.880859375\tTop5 test acc: 96.3671875\n",
            "Epoch 11\tTop1 Train accuracy 64.25023651123047\tTop1 Test accuracy: 63.3203125\tTop5 test acc: 96.5234375\n",
            "Epoch 12\tTop1 Train accuracy 64.4276123046875\tTop1 Test accuracy: 63.30078125\tTop5 test acc: 96.494140625\n",
            "Epoch 13\tTop1 Train accuracy 64.75446319580078\tTop1 Test accuracy: 63.330078125\tTop5 test acc: 96.50390625\n",
            "Epoch 14\tTop1 Train accuracy 64.6691665649414\tTop1 Test accuracy: 63.466796875\tTop5 test acc: 96.611328125\n",
            "Epoch 15\tTop1 Train accuracy 64.85570526123047\tTop1 Test accuracy: 63.544921875\tTop5 test acc: 96.513671875\n",
            "Epoch 16\tTop1 Train accuracy 64.96810913085938\tTop1 Test accuracy: 63.65234375\tTop5 test acc: 96.62109375\n",
            "Epoch 17\tTop1 Train accuracy 65.18215942382812\tTop1 Test accuracy: 63.720703125\tTop5 test acc: 96.669921875\n",
            "Epoch 18\tTop1 Train accuracy 65.20687103271484\tTop1 Test accuracy: 63.857421875\tTop5 test acc: 96.58203125\n",
            "Epoch 19\tTop1 Train accuracy 65.13671875\tTop1 Test accuracy: 63.84765625\tTop5 test acc: 96.630859375\n",
            "Epoch 20\tTop1 Train accuracy 65.41931915283203\tTop1 Test accuracy: 63.73046875\tTop5 test acc: 96.58203125\n",
            "Epoch 21\tTop1 Train accuracy 65.4834976196289\tTop1 Test accuracy: 63.984375\tTop5 test acc: 96.611328125\n",
            "Epoch 22\tTop1 Train accuracy 65.39381408691406\tTop1 Test accuracy: 63.916015625\tTop5 test acc: 96.611328125\n",
            "Epoch 23\tTop1 Train accuracy 65.57716369628906\tTop1 Test accuracy: 63.7890625\tTop5 test acc: 96.591796875\n",
            "Epoch 24\tTop1 Train accuracy 65.6971435546875\tTop1 Test accuracy: 63.974609375\tTop5 test acc: 96.669921875\n",
            "Epoch 25\tTop1 Train accuracy 65.65010833740234\tTop1 Test accuracy: 64.130859375\tTop5 test acc: 96.591796875\n",
            "Epoch 26\tTop1 Train accuracy 65.73899841308594\tTop1 Test accuracy: 64.052734375\tTop5 test acc: 96.66015625\n",
            "Epoch 27\tTop1 Train accuracy 65.84183502197266\tTop1 Test accuracy: 64.00390625\tTop5 test acc: 96.611328125\n",
            "Epoch 28\tTop1 Train accuracy 65.90202331542969\tTop1 Test accuracy: 64.306640625\tTop5 test acc: 96.630859375\n",
            "Epoch 29\tTop1 Train accuracy 66.023193359375\tTop1 Test accuracy: 64.16015625\tTop5 test acc: 96.591796875\n",
            "Epoch 30\tTop1 Train accuracy 66.06305694580078\tTop1 Test accuracy: 64.365234375\tTop5 test acc: 96.640625\n",
            "Epoch 31\tTop1 Train accuracy 65.83067321777344\tTop1 Test accuracy: 64.00390625\tTop5 test acc: 96.630859375\n",
            "Epoch 32\tTop1 Train accuracy 66.06305694580078\tTop1 Test accuracy: 64.1796875\tTop5 test acc: 96.611328125\n",
            "Epoch 33\tTop1 Train accuracy 66.08418273925781\tTop1 Test accuracy: 64.169921875\tTop5 test acc: 96.66015625\n",
            "Epoch 34\tTop1 Train accuracy 66.28866577148438\tTop1 Test accuracy: 64.306640625\tTop5 test acc: 96.66015625\n",
            "Epoch 35\tTop1 Train accuracy 66.11885833740234\tTop1 Test accuracy: 64.453125\tTop5 test acc: 96.66015625\n",
            "Epoch 36\tTop1 Train accuracy 66.26315307617188\tTop1 Test accuracy: 64.306640625\tTop5 test acc: 96.73828125\n",
            "Epoch 37\tTop1 Train accuracy 66.08258819580078\tTop1 Test accuracy: 64.55078125\tTop5 test acc: 96.66015625\n",
            "Epoch 38\tTop1 Train accuracy 66.29981994628906\tTop1 Test accuracy: 64.443359375\tTop5 test acc: 96.708984375\n",
            "Epoch 39\tTop1 Train accuracy 66.25318908691406\tTop1 Test accuracy: 64.404296875\tTop5 test acc: 96.611328125\n",
            "Epoch 40\tTop1 Train accuracy 66.24481964111328\tTop1 Test accuracy: 64.31640625\tTop5 test acc: 96.708984375\n",
            "Epoch 41\tTop1 Train accuracy 66.44730377197266\tTop1 Test accuracy: 64.404296875\tTop5 test acc: 96.71875\n",
            "Epoch 42\tTop1 Train accuracy 66.37276458740234\tTop1 Test accuracy: 64.62890625\tTop5 test acc: 96.689453125\n",
            "Epoch 43\tTop1 Train accuracy 66.50191497802734\tTop1 Test accuracy: 64.287109375\tTop5 test acc: 96.6796875\n",
            "Epoch 44\tTop1 Train accuracy 66.46842956542969\tTop1 Test accuracy: 64.765625\tTop5 test acc: 96.611328125\n",
            "Epoch 45\tTop1 Train accuracy 66.51944732666016\tTop1 Test accuracy: 64.4140625\tTop5 test acc: 96.6796875\n",
            "Epoch 46\tTop1 Train accuracy 66.59239196777344\tTop1 Test accuracy: 64.296875\tTop5 test acc: 96.71875\n",
            "Epoch 47\tTop1 Train accuracy 66.5955810546875\tTop1 Test accuracy: 64.39453125\tTop5 test acc: 96.611328125\n",
            "Epoch 48\tTop1 Train accuracy 66.57166290283203\tTop1 Test accuracy: 64.521484375\tTop5 test acc: 96.787109375\n",
            "Epoch 49\tTop1 Train accuracy 66.56050872802734\tTop1 Test accuracy: 64.404296875\tTop5 test acc: 96.708984375\n",
            "Epoch 50\tTop1 Train accuracy 66.55492401123047\tTop1 Test accuracy: 64.267578125\tTop5 test acc: 96.728515625\n",
            "Epoch 51\tTop1 Train accuracy 66.69124603271484\tTop1 Test accuracy: 64.375\tTop5 test acc: 96.69921875\n",
            "Epoch 52\tTop1 Train accuracy 66.54257202148438\tTop1 Test accuracy: 64.453125\tTop5 test acc: 96.767578125\n",
            "Epoch 53\tTop1 Train accuracy 66.54296875\tTop1 Test accuracy: 64.501953125\tTop5 test acc: 96.748046875\n",
            "Epoch 54\tTop1 Train accuracy 66.60235595703125\tTop1 Test accuracy: 64.47265625\tTop5 test acc: 96.6796875\n",
            "Epoch 55\tTop1 Train accuracy 66.64659881591797\tTop1 Test accuracy: 64.43359375\tTop5 test acc: 96.69921875\n",
            "Epoch 56\tTop1 Train accuracy 66.72393035888672\tTop1 Test accuracy: 64.6484375\tTop5 test acc: 96.6796875\n",
            "Epoch 57\tTop1 Train accuracy 66.68207550048828\tTop1 Test accuracy: 64.74609375\tTop5 test acc: 96.6796875\n",
            "Epoch 58\tTop1 Train accuracy 66.66334533691406\tTop1 Test accuracy: 64.736328125\tTop5 test acc: 96.767578125\n",
            "Epoch 59\tTop1 Train accuracy 66.62826538085938\tTop1 Test accuracy: 64.736328125\tTop5 test acc: 96.7578125\n",
            "Epoch 60\tTop1 Train accuracy 66.84111785888672\tTop1 Test accuracy: 64.599609375\tTop5 test acc: 96.728515625\n",
            "Epoch 61\tTop1 Train accuracy 66.71516418457031\tTop1 Test accuracy: 64.755859375\tTop5 test acc: 96.708984375\n",
            "Epoch 62\tTop1 Train accuracy 66.7578125\tTop1 Test accuracy: 64.375\tTop5 test acc: 96.71875\n",
            "Epoch 63\tTop1 Train accuracy 66.70160675048828\tTop1 Test accuracy: 64.8046875\tTop5 test acc: 96.81640625\n",
            "Epoch 64\tTop1 Train accuracy 66.94873809814453\tTop1 Test accuracy: 64.55078125\tTop5 test acc: 96.767578125\n",
            "Epoch 65\tTop1 Train accuracy 66.76618194580078\tTop1 Test accuracy: 64.384765625\tTop5 test acc: 96.8359375\n",
            "Epoch 66\tTop1 Train accuracy 66.82477569580078\tTop1 Test accuracy: 64.658203125\tTop5 test acc: 96.796875\n",
            "Epoch 67\tTop1 Train accuracy 66.85905456542969\tTop1 Test accuracy: 64.638671875\tTop5 test acc: 96.71875\n",
            "Epoch 68\tTop1 Train accuracy 66.88097381591797\tTop1 Test accuracy: 64.62890625\tTop5 test acc: 96.69921875\n",
            "Epoch 69\tTop1 Train accuracy 66.8690185546875\tTop1 Test accuracy: 64.697265625\tTop5 test acc: 96.796875\n",
            "Epoch 70\tTop1 Train accuracy 66.82916259765625\tTop1 Test accuracy: 64.58984375\tTop5 test acc: 96.708984375\n",
            "Epoch 71\tTop1 Train accuracy 66.85826110839844\tTop1 Test accuracy: 64.53125\tTop5 test acc: 96.71875\n",
            "Epoch 72\tTop1 Train accuracy 66.95391845703125\tTop1 Test accuracy: 64.6484375\tTop5 test acc: 96.728515625\n",
            "Epoch 73\tTop1 Train accuracy 66.94794464111328\tTop1 Test accuracy: 64.697265625\tTop5 test acc: 96.806640625\n",
            "Epoch 74\tTop1 Train accuracy 66.95352172851562\tTop1 Test accuracy: 64.765625\tTop5 test acc: 96.826171875\n",
            "Epoch 75\tTop1 Train accuracy 66.94554901123047\tTop1 Test accuracy: 64.47265625\tTop5 test acc: 96.6796875\n",
            "Epoch 76\tTop1 Train accuracy 66.9543228149414\tTop1 Test accuracy: 64.62890625\tTop5 test acc: 96.69921875\n",
            "Epoch 77\tTop1 Train accuracy 66.95710754394531\tTop1 Test accuracy: 64.541015625\tTop5 test acc: 96.689453125\n",
            "Epoch 78\tTop1 Train accuracy 66.95153045654297\tTop1 Test accuracy: 64.78515625\tTop5 test acc: 96.748046875\n",
            "Epoch 79\tTop1 Train accuracy 66.95710754394531\tTop1 Test accuracy: 64.658203125\tTop5 test acc: 96.689453125\n",
            "Epoch 80\tTop1 Train accuracy 67.05157470703125\tTop1 Test accuracy: 64.697265625\tTop5 test acc: 96.7578125\n",
            "Epoch 81\tTop1 Train accuracy 66.9092788696289\tTop1 Test accuracy: 64.716796875\tTop5 test acc: 96.69921875\n",
            "Epoch 82\tTop1 Train accuracy 67.02766418457031\tTop1 Test accuracy: 64.658203125\tTop5 test acc: 96.767578125\n",
            "Epoch 83\tTop1 Train accuracy 67.17035675048828\tTop1 Test accuracy: 64.560546875\tTop5 test acc: 96.796875\n",
            "Epoch 84\tTop1 Train accuracy 67.058349609375\tTop1 Test accuracy: 64.794921875\tTop5 test acc: 96.796875\n",
            "Epoch 85\tTop1 Train accuracy 67.05237579345703\tTop1 Test accuracy: 64.8046875\tTop5 test acc: 96.728515625\n",
            "Epoch 86\tTop1 Train accuracy 66.95391845703125\tTop1 Test accuracy: 64.619140625\tTop5 test acc: 96.71875\n",
            "Epoch 87\tTop1 Train accuracy 66.88336944580078\tTop1 Test accuracy: 64.599609375\tTop5 test acc: 96.767578125\n",
            "Epoch 88\tTop1 Train accuracy 67.10738372802734\tTop1 Test accuracy: 64.755859375\tTop5 test acc: 96.69921875\n",
            "Epoch 89\tTop1 Train accuracy 67.11614990234375\tTop1 Test accuracy: 64.78515625\tTop5 test acc: 96.77734375\n",
            "Epoch 90\tTop1 Train accuracy 67.02566528320312\tTop1 Test accuracy: 64.814453125\tTop5 test acc: 96.81640625\n",
            "Epoch 91\tTop1 Train accuracy 66.9874038696289\tTop1 Test accuracy: 64.814453125\tTop5 test acc: 96.787109375\n",
            "Epoch 92\tTop1 Train accuracy 67.21819305419922\tTop1 Test accuracy: 64.78515625\tTop5 test acc: 96.81640625\n",
            "Epoch 93\tTop1 Train accuracy 67.04440307617188\tTop1 Test accuracy: 64.70703125\tTop5 test acc: 96.66015625\n",
            "Epoch 94\tTop1 Train accuracy 67.05715942382812\tTop1 Test accuracy: 64.6484375\tTop5 test acc: 96.796875\n",
            "Epoch 95\tTop1 Train accuracy 67.05875396728516\tTop1 Test accuracy: 64.873046875\tTop5 test acc: 96.71875\n",
            "Epoch 96\tTop1 Train accuracy 67.02725982666016\tTop1 Test accuracy: 64.6484375\tTop5 test acc: 96.806640625\n",
            "Epoch 97\tTop1 Train accuracy 67.05157470703125\tTop1 Test accuracy: 64.716796875\tTop5 test acc: 96.77734375\n",
            "Epoch 98\tTop1 Train accuracy 67.0850601196289\tTop1 Test accuracy: 64.4921875\tTop5 test acc: 96.845703125\n",
            "Epoch 99\tTop1 Train accuracy 67.14285278320312\tTop1 Test accuracy: 64.74609375\tTop5 test acc: 96.73828125\n"
          ]
        }
      ],
      "source": [
        "epochs = 100\n",
        "for epoch in range(epochs):\n",
        "  top1_train_accuracy = 0\n",
        "  for counter, (x_batch, y_batch) in enumerate(train_loader):\n",
        "    x_batch = x_batch.to(device)\n",
        "    y_batch = y_batch.to(device)\n",
        "\n",
        "    logits = model(x_batch)\n",
        "    loss = criterion(logits, y_batch)\n",
        "    \n",
        "    top1 = accuracy(logits, y_batch, topk=(1,))\n",
        "    top1_train_accuracy += top1[0]\n",
        "\n",
        "    optimizer.zero_grad()\n",
        "    loss.backward()\n",
        "    optimizer.step()\n",
        "\n",
        "  top1_train_accuracy /= (counter + 1)\n",
        "  top1_accuracy = 0\n",
        "  top5_accuracy = 0\n",
        "  for counter, (x_batch, y_batch) in enumerate(test_loader):\n",
        "    x_batch = x_batch.to(device)\n",
        "    y_batch = y_batch.to(device)\n",
        "\n",
        "    logits = model(x_batch)\n",
        "  \n",
        "    top1, top5 = accuracy(logits, y_batch, topk=(1,5))\n",
        "    top1_accuracy += top1[0]\n",
        "    top5_accuracy += top5[0]\n",
        "  \n",
        "  top1_accuracy /= (counter + 1)\n",
        "  top5_accuracy /= (counter + 1)\n",
        "  print(f\"Epoch {epoch}\\tTop1 Train accuracy {top1_train_accuracy.item()}\\tTop1 Test accuracy: {top1_accuracy.item()}\\tTop5 test acc: {top5_accuracy.item()}\")"
      ]
    },
    {
      "cell_type": "code",
      "execution_count": 58,
      "metadata": {},
      "outputs": [],
      "source": [
        "train_loader = DataLoader(train_dataset, batch_size = train_dataset.__len__() // 5, shuffle = False)\n",
        "test_loader = DataLoader(test_dataset, batch_size = test_dataset.__len__(), shuffle = False)"
      ]
    },
    {
      "cell_type": "code",
      "execution_count": 59,
      "metadata": {},
      "outputs": [],
      "source": [
        "yhat = torch.tensor([])\n",
        "model.eval()\n",
        "with torch.no_grad():\n",
        "    for x, y in train_loader:\n",
        "        x, y = x.to(device), y.to(device)\n",
        "        logits = model(x)\n",
        "        yhat = torch.cat((yhat, logits.cpu()), 0)\n",
        "torch.save(yhat, 'data/yhat_train.pt')"
      ]
    },
    {
      "cell_type": "code",
      "execution_count": 54,
      "metadata": {},
      "outputs": [],
      "source": [
        "model.eval()\n",
        "with torch.no_grad():\n",
        "    for x, y in test_loader:\n",
        "        x, y = x.to(device), y.to(device)\n",
        "        yhat = model(x)\n",
        "torch.save(yhat.cpu(), 'data/yhat_test.pt')"
      ]
    },
    {
      "cell_type": "code",
      "execution_count": 56,
      "metadata": {},
      "outputs": [
        {
          "data": {
            "text/plain": [
              "(torch.Size([50000, 3, 32, 32]), torch.Size([50000]), torch.Size([10000, 10]))"
            ]
          },
          "execution_count": 56,
          "metadata": {},
          "output_type": "execute_result"
        }
      ],
      "source": [
        "x.shape, y.shape, yhat.shape"
      ]
    }
  ],
  "metadata": {
    "accelerator": "GPU",
    "colab": {
      "include_colab_link": true,
      "name": "Copy of mini-batch-logistic-regression-evaluator.ipynb",
      "provenance": []
    },
    "kernelspec": {
      "display_name": "whisper",
      "language": "python",
      "name": "python3"
    },
    "language_info": {
      "codemirror_mode": {
        "name": "ipython",
        "version": 3
      },
      "file_extension": ".py",
      "mimetype": "text/x-python",
      "name": "python",
      "nbconvert_exporter": "python",
      "pygments_lexer": "ipython3",
      "version": "3.8.8"
    },
    "widgets": {
      "application/vnd.jupyter.widget-state+json": {
        "149b9ce8fb68473a837a77431c12281a": {
          "model_module": "@jupyter-widgets/controls",
          "model_name": "HBoxModel",
          "state": {
            "_dom_classes": [],
            "_model_module": "@jupyter-widgets/controls",
            "_model_module_version": "1.5.0",
            "_model_name": "HBoxModel",
            "_view_count": null,
            "_view_module": "@jupyter-widgets/controls",
            "_view_module_version": "1.5.0",
            "_view_name": "HBoxView",
            "box_style": "",
            "children": [
              "IPY_MODEL_a88c31d74f5c40a2b24bcff5a35d216c",
              "IPY_MODEL_60c6150177694717a622936b830427b5"
            ],
            "layout": "IPY_MODEL_88cd3db2831e4c13a4a634709700d6b2"
          }
        },
        "5901c2829a554c8ebbd5926610088041": {
          "model_module": "@jupyter-widgets/base",
          "model_name": "LayoutModel",
          "state": {
            "_model_module": "@jupyter-widgets/base",
            "_model_module_version": "1.2.0",
            "_model_name": "LayoutModel",
            "_view_count": null,
            "_view_module": "@jupyter-widgets/base",
            "_view_module_version": "1.2.0",
            "_view_name": "LayoutView",
            "align_content": null,
            "align_items": null,
            "align_self": null,
            "border": null,
            "bottom": null,
            "display": null,
            "flex": null,
            "flex_flow": null,
            "grid_area": null,
            "grid_auto_columns": null,
            "grid_auto_flow": null,
            "grid_auto_rows": null,
            "grid_column": null,
            "grid_gap": null,
            "grid_row": null,
            "grid_template_areas": null,
            "grid_template_columns": null,
            "grid_template_rows": null,
            "height": null,
            "justify_content": null,
            "justify_items": null,
            "left": null,
            "margin": null,
            "max_height": null,
            "max_width": null,
            "min_height": null,
            "min_width": null,
            "object_fit": null,
            "object_position": null,
            "order": null,
            "overflow": null,
            "overflow_x": null,
            "overflow_y": null,
            "padding": null,
            "right": null,
            "top": null,
            "visibility": null,
            "width": null
          }
        },
        "60c6150177694717a622936b830427b5": {
          "model_module": "@jupyter-widgets/controls",
          "model_name": "HTMLModel",
          "state": {
            "_dom_classes": [],
            "_model_module": "@jupyter-widgets/controls",
            "_model_module_version": "1.5.0",
            "_model_name": "HTMLModel",
            "_view_count": null,
            "_view_module": "@jupyter-widgets/controls",
            "_view_module_version": "1.5.0",
            "_view_name": "HTMLView",
            "description": "",
            "description_tooltip": null,
            "layout": "IPY_MODEL_a4f82234388e4701a02a9f68a177193a",
            "placeholder": "​",
            "style": "IPY_MODEL_957362a11d174407979cf17012bf9208",
            "value": " 2640404480/? [00:51&lt;00:00, 32685718.58it/s]"
          }
        },
        "88cd3db2831e4c13a4a634709700d6b2": {
          "model_module": "@jupyter-widgets/base",
          "model_name": "LayoutModel",
          "state": {
            "_model_module": "@jupyter-widgets/base",
            "_model_module_version": "1.2.0",
            "_model_name": "LayoutModel",
            "_view_count": null,
            "_view_module": "@jupyter-widgets/base",
            "_view_module_version": "1.2.0",
            "_view_name": "LayoutView",
            "align_content": null,
            "align_items": null,
            "align_self": null,
            "border": null,
            "bottom": null,
            "display": null,
            "flex": null,
            "flex_flow": null,
            "grid_area": null,
            "grid_auto_columns": null,
            "grid_auto_flow": null,
            "grid_auto_rows": null,
            "grid_column": null,
            "grid_gap": null,
            "grid_row": null,
            "grid_template_areas": null,
            "grid_template_columns": null,
            "grid_template_rows": null,
            "height": null,
            "justify_content": null,
            "justify_items": null,
            "left": null,
            "margin": null,
            "max_height": null,
            "max_width": null,
            "min_height": null,
            "min_width": null,
            "object_fit": null,
            "object_position": null,
            "order": null,
            "overflow": null,
            "overflow_x": null,
            "overflow_y": null,
            "padding": null,
            "right": null,
            "top": null,
            "visibility": null,
            "width": null
          }
        },
        "957362a11d174407979cf17012bf9208": {
          "model_module": "@jupyter-widgets/controls",
          "model_name": "DescriptionStyleModel",
          "state": {
            "_model_module": "@jupyter-widgets/controls",
            "_model_module_version": "1.5.0",
            "_model_name": "DescriptionStyleModel",
            "_view_count": null,
            "_view_module": "@jupyter-widgets/base",
            "_view_module_version": "1.2.0",
            "_view_name": "StyleView",
            "description_width": ""
          }
        },
        "a4f82234388e4701a02a9f68a177193a": {
          "model_module": "@jupyter-widgets/base",
          "model_name": "LayoutModel",
          "state": {
            "_model_module": "@jupyter-widgets/base",
            "_model_module_version": "1.2.0",
            "_model_name": "LayoutModel",
            "_view_count": null,
            "_view_module": "@jupyter-widgets/base",
            "_view_module_version": "1.2.0",
            "_view_name": "LayoutView",
            "align_content": null,
            "align_items": null,
            "align_self": null,
            "border": null,
            "bottom": null,
            "display": null,
            "flex": null,
            "flex_flow": null,
            "grid_area": null,
            "grid_auto_columns": null,
            "grid_auto_flow": null,
            "grid_auto_rows": null,
            "grid_column": null,
            "grid_gap": null,
            "grid_row": null,
            "grid_template_areas": null,
            "grid_template_columns": null,
            "grid_template_rows": null,
            "height": null,
            "justify_content": null,
            "justify_items": null,
            "left": null,
            "margin": null,
            "max_height": null,
            "max_width": null,
            "min_height": null,
            "min_width": null,
            "object_fit": null,
            "object_position": null,
            "order": null,
            "overflow": null,
            "overflow_x": null,
            "overflow_y": null,
            "padding": null,
            "right": null,
            "top": null,
            "visibility": null,
            "width": null
          }
        },
        "a88c31d74f5c40a2b24bcff5a35d216c": {
          "model_module": "@jupyter-widgets/controls",
          "model_name": "FloatProgressModel",
          "state": {
            "_dom_classes": [],
            "_model_module": "@jupyter-widgets/controls",
            "_model_module_version": "1.5.0",
            "_model_name": "FloatProgressModel",
            "_view_count": null,
            "_view_module": "@jupyter-widgets/controls",
            "_view_module_version": "1.5.0",
            "_view_name": "ProgressView",
            "bar_style": "info",
            "description": "",
            "description_tooltip": null,
            "layout": "IPY_MODEL_5901c2829a554c8ebbd5926610088041",
            "max": 1,
            "min": 0,
            "orientation": "horizontal",
            "style": "IPY_MODEL_dba019efadee4fdc8c799f309b9a7e70",
            "value": 1
          }
        },
        "dba019efadee4fdc8c799f309b9a7e70": {
          "model_module": "@jupyter-widgets/controls",
          "model_name": "ProgressStyleModel",
          "state": {
            "_model_module": "@jupyter-widgets/controls",
            "_model_module_version": "1.5.0",
            "_model_name": "ProgressStyleModel",
            "_view_count": null,
            "_view_module": "@jupyter-widgets/base",
            "_view_module_version": "1.2.0",
            "_view_name": "StyleView",
            "bar_color": null,
            "description_width": "initial"
          }
        }
      }
    }
  },
  "nbformat": 4,
  "nbformat_minor": 0
}
